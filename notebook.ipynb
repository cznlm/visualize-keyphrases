{
 "cells": [
  {
   "cell_type": "markdown",
   "metadata": {},
   "source": [
    "# Keyphrase Extraction & Visualization"
   ]
  },
  {
   "cell_type": "markdown",
   "metadata": {},
   "source": [
    "**Step 1: Keyphrase Extraction**"
   ]
  },
  {
   "cell_type": "code",
   "execution_count": 1,
   "metadata": {},
   "outputs": [],
   "source": [
    "# Uncomment the pip install lines if necessary\n",
    "# !pip install rake_nltk\n",
    "# !pip install yake\n",
    "from rake_nltk import Rake\n",
    "import yake"
   ]
  },
  {
   "cell_type": "code",
   "execution_count": 2,
   "metadata": {},
   "outputs": [],
   "source": [
    "r = Rake(min_length=1, max_length=4)\n",
    "y = yake.KeywordExtractor()"
   ]
  },
  {
   "cell_type": "code",
   "execution_count": 3,
   "metadata": {},
   "outputs": [],
   "source": [
    "sentences = []\n",
    "sentences.append(\"Since the release of the first novel, Harry Potter and the Philosopher's Stone, on 26 June 1997, the books have found immense popularity, critical acclaim and commercial success worldwide.\")\n",
    "sentences.append(\"The Harry Potter novels are mainly directed at a young adult audience as opposed to an audience of middle grade readers, children, or adults.\")"
   ]
  },
  {
   "cell_type": "code",
   "execution_count": 4,
   "metadata": {},
   "outputs": [
    {
     "name": "stdout",
     "output_type": "stream",
     "text": [
      "sentence:  Since the release of the first novel, Harry Potter and the Philosopher's Stone, on 26 June 1997, the books have found immense popularity, critical acclaim and commercial success worldwide.\n",
      "rake keyphrases: \n",
      "(9.0, 'found immense popularity')\n",
      "(9.0, 'commercial success worldwide')\n",
      "(9.0, '26 june 1997')\n",
      "(4.0, 'harry potter')\n",
      "(4.0, 'first novel')\n",
      "(4.0, 'critical acclaim')\n",
      "(1.0, 'stone')\n",
      "(1.0, 'since')\n",
      "(1.0, 'release')\n",
      "(1.0, 'philosopher')\n",
      "(1.0, 'books')\n",
      "yake keyphrases: \n",
      "(0.00601189725323029, 'found immense popularity')\n",
      "(0.00601189725323029, 'commercial success worldwide')\n",
      "(0.007237648981780116, 'harry potter')\n",
      "(0.007237648981780116, 'philosopher stone')\n",
      "(0.024805549895152507, 'immense popularity')\n",
      "(0.024805549895152507, 'critical acclaim')\n",
      "(0.024805549895152507, 'success worldwide')\n",
      "(0.04567049649971613, 'books have found')\n",
      "(0.04567049649971613, 'found immense')\n",
      "(0.04567049649971613, 'acclaim and commercial')\n",
      "(0.04567049649971613, 'commercial success')\n",
      "(0.057012387690331526, 'june')\n",
      "(0.07132737506917101, 'harry')\n",
      "(0.07132737506917101, 'stone')\n",
      "(0.10074171132118784, 'potter')\n",
      "(0.10074171132118784, 'philosopher')\n",
      "(0.12588232916135686, 'popularity')\n",
      "(0.12588232916135686, 'critical')\n",
      "(0.12588232916135686, 'worldwide')\n",
      "(0.19228376640925346, 'books')\n",
      "sentence:  The Harry Potter novels are mainly directed at a young adult audience as opposed to an audience of middle grade readers, children, or adults.\n",
      "rake keyphrases: \n",
      "(9.0, 'middle grade readers')\n",
      "(9.0, 'harry potter novels')\n",
      "(8.0, 'young adult audience')\n",
      "(4.0, 'mainly directed')\n",
      "(2.0, 'audience')\n",
      "(1.0, 'opposed')\n",
      "(1.0, 'children')\n",
      "(1.0, 'adults')\n",
      "yake keyphrases: \n",
      "(0.04013530368128323, 'harry potter')\n",
      "(0.05430009520648986, 'children')\n",
      "(0.07779073969035082, 'middle grade readers')\n",
      "(0.12239770796887664, 'grade readers')\n",
      "(0.1831603665399906, 'harry')\n",
      "(0.21067122094600266, 'potter')\n",
      "(0.24643857578759787, 'middle grade')\n",
      "(0.2640900048941729, 'readers')\n",
      "(0.3347019220635522, 'audience')\n",
      "(0.36241308132500155, 'young adult')\n",
      "(0.41292820610118347, 'grade')\n",
      "(0.447726487517707, 'young adult audience')\n",
      "(0.4788100520895411, 'directed')\n",
      "(0.4788100520895411, 'young')\n",
      "(0.4788100520895411, 'opposed')\n",
      "(0.4788100520895411, 'middle')\n",
      "(0.5555610639111797, 'adult')\n",
      "(0.5920897639832143, 'adult audience')\n",
      "(0.8102996859323182, 'audience as opposed')\n",
      "(0.8102996859323182, 'audience of middle')\n"
     ]
    }
   ],
   "source": [
    "for sentence in sentences:\n",
    "    print(\"sentence: \", sentence)\n",
    "    r.extract_keywords_from_text(sentence)\n",
    "    rake_keywords = r.get_ranked_phrases_with_scores()\n",
    "    print(\"rake keyphrases: \")\n",
    "    for kw in rake_keywords:\n",
    "        print(kw)\n",
    "    yake_keywords = y.extract_keywords(sentence)\n",
    "    print(\"yake keyphrases: \")\n",
    "    for kw in yake_keywords:\n",
    "        print(kw)"
   ]
  },
  {
   "cell_type": "code",
   "execution_count": 5,
   "metadata": {},
   "outputs": [
    {
     "name": "stdout",
     "output_type": "stream",
     "text": [
      "paragraphs:  [\"Harry Potter is a series of fantasy novels written by British author J. K. Rowling. The novels chronicle the lives of a young wizard, Harry Potter, and his friends Hermione Granger and Ron Weasley, all of whom are students at Hogwarts School of Witchcraft and Wizardry. The main story arc concerns Harry's struggle against Lord Voldemort, a dark wizard who intends to become immortal, overthrow the wizard governing body known as the Ministry of Magic and subjugate all wizards and Muggles (non-magical people).\", 'The central character in the series is Harry Potter, a boy who lives in the fictional town of Little Whinging, Surrey with his aunt, uncle, and cousin – the Dursleys – and discovers at the age of eleven that he is a wizard, though he lives in the ordinary world of non-magical people known as Muggles. The wizarding world exists parallel to the Muggle world, albeit hidden and in secrecy. His magical ability is inborn, and children with such abilities are invited to attend exclusive magic schools that teach the necessary skills to succeed in the wizarding world.']\n"
     ]
    }
   ],
   "source": [
    "paragraphs = []\n",
    "paragraphs.append(\"Harry Potter is a series of fantasy novels written by British author J. K. Rowling. The novels chronicle the lives of a young wizard, Harry Potter, and his friends Hermione Granger and Ron Weasley, all of whom are students at Hogwarts School of Witchcraft and Wizardry. The main story arc concerns Harry's struggle against Lord Voldemort, a dark wizard who intends to become immortal, overthrow the wizard governing body known as the Ministry of Magic and subjugate all wizards and Muggles (non-magical people).\")\n",
    "paragraphs.append(\"The central character in the series is Harry Potter, a boy who lives in the fictional town of Little Whinging, Surrey with his aunt, uncle, and cousin – the Dursleys – and discovers at the age of eleven that he is a wizard, though he lives in the ordinary world of non-magical people known as Muggles. The wizarding world exists parallel to the Muggle world, albeit hidden and in secrecy. His magical ability is inborn, and children with such abilities are invited to attend exclusive magic schools that teach the necessary skills to succeed in the wizarding world.\")\n",
    "print(\"paragraphs: \", paragraphs)"
   ]
  },
  {
   "cell_type": "code",
   "execution_count": 6,
   "metadata": {},
   "outputs": [
    {
     "name": "stdout",
     "output_type": "stream",
     "text": [
      "paragraph:  Harry Potter is a series of fantasy novels written by British author J. K. Rowling. The novels chronicle the lives of a young wizard, Harry Potter, and his friends Hermione Granger and Ron Weasley, all of whom are students at Hogwarts School of Witchcraft and Wizardry. The main story arc concerns Harry's struggle against Lord Voldemort, a dark wizard who intends to become immortal, overthrow the wizard governing body known as the Ministry of Magic and subjugate all wizards and Muggles (non-magical people).\n",
      "['author', 'harry', 'written by british', 'lord voldemort', 'young wizard', 'ron weasley', 'granger and ron', 'british author j', 'hermione granger', 'witchcraft and wizardry', 'potter', 'rowling', 'school of witchcraft', 'ministry of magic', 'magical people ).', 'wizard', 'wizard governing body known', 'british author', 'become immortal', 'hogwarts school', 'british', 'dark wizard', 'series of fantasy', 'friends hermione granger', 'harry potter', 'novels chronicle', 'fantasy novels written']\n",
      "paragraph:  The central character in the series is Harry Potter, a boy who lives in the fictional town of Little Whinging, Surrey with his aunt, uncle, and cousin – the Dursleys – and discovers at the age of eleven that he is a wizard, though he lives in the ordinary world of non-magical people known as Muggles. The wizarding world exists parallel to the Muggle world, albeit hidden and in secrecy. His magical ability is inborn, and children with such abilities are invited to attend exclusive magic schools that teach the necessary skills to succeed in the wizarding world.\n",
      "['harry', 'attend exclusive magic schools', 'albeit hidden', 'dursleys –', 'age of eleven', 'little whinging', 'uncle', 'fictional town', 'potter', 'ordinary world', 'cousin –', 'lives', 'wizarding world exists', 'necessary skills', 'wizarding world exists parallel', 'wizarding world', 'central character', 'series is harry', 'boy who lives', 'world', 'magical people known', 'non-magical people', 'world exists parallel', 'surrey', 'whinging', 'harry potter', 'muggle world', 'magical ability', 'dursleys']\n"
     ]
    }
   ],
   "source": [
    "def get_keyphrases(text):\n",
    "    if text.strip() == \"\":\n",
    "        return [\"\"]\n",
    "    keyphrases = []\n",
    "    r.extract_keywords_from_text(text)\n",
    "    rake_keywords = r.get_ranked_phrases_with_scores()\n",
    "    yake_keywords = y.extract_keywords(text)\n",
    "    for kw in rake_keywords:\n",
    "        if kw[0] > 3:\n",
    "            keyphrases.append(kw[1])\n",
    "    for kw in yake_keywords:\n",
    "        if kw[0] < 0.4:\n",
    "            keyphrases.append(kw[1])\n",
    "    return list(set(keyphrases)) # to remove duplicates\n",
    "\n",
    "for paragraph in paragraphs:\n",
    "    print(\"paragraph: \", paragraph)\n",
    "    print(get_keyphrases(paragraph))"
   ]
  },
  {
   "cell_type": "markdown",
   "metadata": {},
   "source": [
    "**Step 2: Visualization**"
   ]
  },
  {
   "cell_type": "code",
   "execution_count": 7,
   "metadata": {},
   "outputs": [],
   "source": [
    "# Imports\n",
    "import kmapper as km\n",
    "import numpy as np\n",
    "from sklearn.datasets import fetch_20newsgroups"
   ]
  },
  {
   "cell_type": "code",
   "execution_count": 8,
   "metadata": {},
   "outputs": [
    {
     "name": "stdout",
     "output_type": "stream",
     "text": [
      "SAMPLE:  From: lerxst@wam.umd.edu (where's my thing)\n",
      "Subject: WHAT car is this!?\n",
      "Nntp-Posting-Host: rac3.wam.umd.edu\n",
      "Organization: University of Maryland, College Park\n",
      "Lines: 15\n",
      "\n",
      " I was wondering if anyone out there could enlighten me on this car I saw\n",
      "the other day. It was a 2-door sports car, looked to be from the late 60s/\n",
      "early 70s. It was called a Bricklin. The doors were really small. In addition,\n",
      "the front bumper was separate from the rest of the body. This is \n",
      "all I know. If anyone can tellme a model name, engine specs, years\n",
      "of production, where this car is made, history, or whatever info you\n",
      "have on this funky looking car, please e-mail.\n",
      "\n",
      "Thanks,\n",
      "- IL\n",
      "   ---- brought to you by your neighborhood Lerxst ----\n",
      "\n",
      "\n",
      "\n",
      "\n",
      "\n",
      "SHAPE:  (11314,)\n",
      "TARGET:  rec.autos\n"
     ]
    }
   ],
   "source": [
    "# Get data\n",
    "newsgroups = fetch_20newsgroups(subset='train')\n",
    "raw_data = newsgroups.data\n",
    "X, target, target_names = np.array(raw_data), np.array(newsgroups.target), np.array(newsgroups.target_names)\n",
    "print(\"SAMPLE: \", X[0])\n",
    "print(\"SHAPE: \", X.shape)\n",
    "print(\"TARGET: \", target_names[target[0]])"
   ]
  },
  {
   "cell_type": "code",
   "execution_count": null,
   "metadata": {},
   "outputs": [],
   "source": [
    "# Format data\n",
    "import re\n",
    "# get rid of headers\n",
    "headers = [\"Lines: \", \"NNTP-Posting-Host: \", \"NNTP Posting Host: \"]\n",
    "data_formatted = []\n",
    "for entry in raw_data[:1000]:\n",
    "    occurrences = []\n",
    "    for header in headers:\n",
    "        occurrences.append(entry.lower().find(header.lower()))\n",
    "    champ = max(occurrences)\n",
    "    if champ != -1:\n",
    "        start = entry.find(\"\\n\", champ)\n",
    "        data_formatted.append(entry[start:])\n",
    "    else:\n",
    "        data_formatted.append(entry)\n",
    "data_formatted = [re.sub(\"[\\n\\t-]\", \" \", entry) for entry in data_formatted]\n",
    "extracted_phrases = [get_keyphrases(entry) for entry in data_formatted]\n",
    "print(\"SAMPLE EXTRACTED PHRASES\", extracted_phrases[0])\n",
    "extracted_phrases_joined = [\" \".join(phrase) for phrase in extracted_phrases]\n",
    "print(\"ORIGINAL SENTENCE\", data_formatted[0])\n",
    "print(\"JOINED SENTENCE\", extracted_phrases_joined[0])"
   ]
  },
  {
   "cell_type": "code",
   "execution_count": null,
   "metadata": {},
   "outputs": [],
   "source": [
    "# Project data\n",
    "from sklearn.feature_extraction.text import TfidfVectorizer\n",
    "from sklearn.decomposition import TruncatedSVD\n",
    "from sklearn.manifold import Isomap\n",
    "from sklearn.preprocessing import MinMaxScaler\n",
    "\n",
    "mapper = km.KeplerMapper(verbose=2)\n",
    "\n",
    "projected_X = mapper.fit_transform(np.array(extracted_phrases_joined),\n",
    "    projection=[TfidfVectorizer(analyzer=\"char\",\n",
    "                                ngram_range=(1,6),\n",
    "                                max_df=0.83,\n",
    "                                min_df=0.05),\n",
    "                TruncatedSVD(n_components=100,\n",
    "                             random_state=1729),\n",
    "                Isomap(n_components=2,\n",
    "                       n_jobs=-1)],\n",
    "    scaler=[None, None, MinMaxScaler()])\n",
    "\n",
    "print(\"SHAPE\",projected_X.shape)"
   ]
  },
  {
   "cell_type": "code",
   "execution_count": null,
   "metadata": {},
   "outputs": [],
   "source": [
    "# Cluster data\n",
    "from sklearn import cluster\n",
    "graph = mapper.map(projected_X, clusterer=cluster.DBSCAN(eps=0.5, min_samples=3))"
   ]
  },
  {
   "cell_type": "code",
   "execution_count": null,
   "metadata": {
    "scrolled": true
   },
   "outputs": [],
   "source": [
    "# Get features from data\n",
    "vec = TfidfVectorizer(analyzer=\"word\",\n",
    "                      strip_accents=\"unicode\",\n",
    "                      stop_words=\"english\",\n",
    "                      ngram_range=(1,3),\n",
    "                      max_df=0.97,\n",
    "                      min_df=0.02)\n",
    "\n",
    "interpretable_inverse_X = vec.fit_transform(X).toarray()\n",
    "interpretable_inverse_X_names = vec.get_feature_names()\n",
    "\n",
    "print(\"SHAPE\", interpretable_inverse_X.shape)\n",
    "print(\"FEATURE NAMES SAMPLE\", interpretable_inverse_X_names[:400])"
   ]
  },
  {
   "cell_type": "code",
   "execution_count": null,
   "metadata": {},
   "outputs": [],
   "source": [
    "# Visualize data!\n",
    "html = mapper.visualize(graph,\n",
    "                        X=interpretable_inverse_X,\n",
    "                        X_names=interpretable_inverse_X_names,\n",
    "                        path_html=\"newsgroups20.html\",\n",
    "                        lens=projected_X,\n",
    "                        lens_names=[\"ISOMAP1\", \"ISOMAP2\"],\n",
    "                        title=\"Newsgroups20: Latent Semantic Char-gram Analysis with Isometric Embedding\",\n",
    "                        custom_tooltips=np.array([target_names[ys] for ys in target]),\n",
    "                        color_function=target)"
   ]
  },
  {
   "cell_type": "code",
   "execution_count": null,
   "metadata": {},
   "outputs": [],
   "source": []
  }
 ],
 "metadata": {
  "kernelspec": {
   "display_name": "Python 3.8.1 64-bit ('nlm-env': venv)",
   "language": "python",
   "name": "python38164bitnlmenvvenvad24dd00e2184e1ca089866e90311227"
  },
  "language_info": {
   "codemirror_mode": {
    "name": "ipython",
    "version": 3
   },
   "file_extension": ".py",
   "mimetype": "text/x-python",
   "name": "python",
   "nbconvert_exporter": "python",
   "pygments_lexer": "ipython3",
   "version": "3.8.1"
  }
 },
 "nbformat": 4,
 "nbformat_minor": 4
}
